{
  "nbformat": 4,
  "nbformat_minor": 0,
  "metadata": {
    "colab": {
      "provenance": []
    },
    "kernelspec": {
      "name": "python3",
      "display_name": "Python 3"
    },
    "language_info": {
      "name": "python"
    }
  },
  "cells": [
    {
      "cell_type": "code",
      "source": [
        "# Importing necessary libraries\n",
        "import pandas as pd\n",
        "import numpy as np\n",
        "from sklearn.model_selection import train_test_split, GridSearchCV\n",
        "from sklearn.preprocessing import LabelEncoder, StandardScaler\n",
        "from sklearn.ensemble import RandomForestClassifier, GradientBoostingClassifier, VotingClassifier\n",
        "from sklearn.linear_model import LogisticRegression\n",
        "from sklearn.metrics import accuracy_score, confusion_matrix, classification_report, roc_auc_score\n",
        "from sklearn.pipeline import Pipeline\n",
        "from sklearn.base import BaseEstimator, TransformerMixin"
      ],
      "metadata": {
        "id": "D1RExLtQde-S"
      },
      "execution_count": 2,
      "outputs": []
    },
    {
      "cell_type": "code",
      "source": [
        "# Load the dataset\n",
        "data = pd.read_csv('/content/Churn_Modelling.csv')"
      ],
      "metadata": {
        "id": "0V4mXnhKdj_K"
      },
      "execution_count": 3,
      "outputs": []
    },
    {
      "cell_type": "code",
      "source": [
        "# Drop unnecessary columns\n",
        "data = data.drop(columns=['RowNumber', 'CustomerId', 'Surname'])"
      ],
      "metadata": {
        "id": "XYqz4KNzdpfF"
      },
      "execution_count": 4,
      "outputs": []
    },
    {
      "cell_type": "code",
      "source": [
        "# Encode categorical variables\n",
        "label_encoder = LabelEncoder()\n",
        "data['Gender'] = label_encoder.fit_transform(data['Gender'])\n",
        "data = pd.get_dummies(data, columns=['Geography'], drop_first=True)"
      ],
      "metadata": {
        "id": "EjJ2ckcydsA-"
      },
      "execution_count": 5,
      "outputs": []
    },
    {
      "cell_type": "code",
      "source": [
        "# Splitting the dataset into features and target variable\n",
        "X = data.drop(columns=['Exited'])\n",
        "y = data['Exited']"
      ],
      "metadata": {
        "id": "LvqtnhKIduWr"
      },
      "execution_count": 6,
      "outputs": []
    },
    {
      "cell_type": "code",
      "source": [
        "# Splitting the dataset into training and testing sets\n",
        "X_train, X_test, y_train, y_test = train_test_split(X, y, test_size=0.2, random_state=42)"
      ],
      "metadata": {
        "id": "X-AmQW5Udw3y"
      },
      "execution_count": 7,
      "outputs": []
    },
    {
      "cell_type": "code",
      "source": [
        "# Feature scaling\n",
        "scaler = StandardScaler()\n",
        "X_train_scaled = scaler.fit_transform(X_train)\n",
        "X_test_scaled = scaler.transform(X_test)"
      ],
      "metadata": {
        "id": "4p9h9gZjdzef"
      },
      "execution_count": 8,
      "outputs": []
    },
    {
      "cell_type": "code",
      "source": [
        "# Custom transformer for selecting specific columns\n",
        "class ColumnSelector(BaseEstimator, TransformerMixin):\n",
        "    def __init__(self, columns):\n",
        "        self.columns = columns\n",
        "\n",
        "    def fit(self, X, y=None):\n",
        "        return self\n",
        "\n",
        "    def transform(self, X):\n",
        "        return X[self.columns]"
      ],
      "metadata": {
        "id": "GsYlB1PWd160"
      },
      "execution_count": 9,
      "outputs": []
    },
    {
      "cell_type": "code",
      "source": [
        "# Define pipelines for different models\n",
        "logistic_regression_pipe = Pipeline([\n",
        "    ('selector', ColumnSelector(columns=['Age', 'Balance', 'CreditScore', 'EstimatedSalary', 'Gender',\n",
        "                                         'NumOfProducts', 'Tenure', 'HasCrCard', 'IsActiveMember',\n",
        "                                         'Geography_Germany'])),\n",
        "    ('scaler', StandardScaler()),\n",
        "    ('clf', LogisticRegression())\n",
        "])\n",
        "\n",
        "random_forest_pipe = Pipeline([\n",
        "    ('selector', ColumnSelector(columns=['Age', 'Balance', 'CreditScore', 'EstimatedSalary', 'Gender',\n",
        "                                         'NumOfProducts', 'Tenure', 'HasCrCard', 'IsActiveMember',\n",
        "                                         'Geography_Germany'])),\n",
        "    ('scaler', StandardScaler()),\n",
        "    ('clf', RandomForestClassifier())\n",
        "])\n",
        "\n",
        "gradient_boosting_pipe = Pipeline([\n",
        "    ('selector', ColumnSelector(columns=['Age', 'Balance', 'CreditScore', 'EstimatedSalary', 'Gender',\n",
        "                                         'NumOfProducts', 'Tenure', 'HasCrCard', 'IsActiveMember',\n",
        "                                         'Geography_Germany'])),\n",
        "    ('scaler', StandardScaler()),\n",
        "    ('clf', GradientBoostingClassifier())\n",
        "])"
      ],
      "metadata": {
        "id": "-eEKlpvEd450"
      },
      "execution_count": 10,
      "outputs": []
    },
    {
      "cell_type": "code",
      "source": [
        "# Hyperparameter tuning using GridSearchCV\n",
        "param_grid_logistic = {\n",
        "    'clf__penalty': ['l2'],\n",
        "    'clf__C': [0.001, 0.01, 0.1, 1, 10, 100]\n",
        "}\n",
        "\n",
        "param_grid_rf = {\n",
        "    'clf__n_estimators': [100, 200, 300],\n",
        "    'clf__max_depth': [None, 10, 20],\n",
        "    'clf__min_samples_split': [2, 5, 10],\n",
        "    'clf__min_samples_leaf': [1, 2, 4]\n",
        "}\n",
        "\n",
        "param_grid_gb = {\n",
        "    'clf__n_estimators': [100, 200, 300],\n",
        "    'clf__learning_rate': [0.01, 0.1, 0.5],\n",
        "    'clf__max_depth': [3, 5, 7],\n",
        "    'clf__min_samples_split': [2, 5, 10]\n",
        "}\n"
      ],
      "metadata": {
        "id": "Wd8PMccmd84z"
      },
      "execution_count": 11,
      "outputs": []
    },
    {
      "cell_type": "code",
      "source": [
        "grid_search_logistic = GridSearchCV(logistic_regression_pipe, param_grid_logistic, cv=5, scoring='accuracy')\n",
        "grid_search_logistic.fit(X_train, y_train)\n",
        "best_logistic_model = grid_search_logistic.best_estimator_"
      ],
      "metadata": {
        "id": "UTg7dry_eAUF"
      },
      "execution_count": 12,
      "outputs": []
    },
    {
      "cell_type": "code",
      "source": [
        "# GridSearchCV for Random Forest\n",
        "grid_search_rf = GridSearchCV(random_forest_pipe, param_grid_rf, cv=5, scoring='accuracy')\n",
        "grid_search_rf.fit(X_train, y_train)\n",
        "best_rf_model = grid_search_rf.best_estimator_"
      ],
      "metadata": {
        "id": "zmp4PXFoeFi4"
      },
      "execution_count": 13,
      "outputs": []
    },
    {
      "cell_type": "code",
      "source": [
        "# GridSearchCV for Gradient Boosting\n",
        "grid_search_gb = GridSearchCV(gradient_boosting_pipe, param_grid_gb, cv=5, scoring='accuracy')\n",
        "grid_search_gb.fit(X_train, y_train)\n",
        "best_gb_model = grid_search_gb.best_estimator_"
      ],
      "metadata": {
        "id": "FELQ0whah6VF"
      },
      "execution_count": 14,
      "outputs": []
    },
    {
      "cell_type": "code",
      "source": [
        "# Ensemble of best models\n",
        "ensemble_model = VotingClassifier(estimators=[\n",
        "    ('logistic', best_logistic_model),\n",
        "    ('random_forest', best_rf_model),\n",
        "    ('gradient_boosting', best_gb_model)\n",
        "], voting='soft')\n",
        "\n",
        "ensemble_model.fit(X_train, y_train)"
      ],
      "metadata": {
        "colab": {
          "base_uri": "https://localhost:8080/",
          "height": 178
        },
        "id": "DS04fd2Ph-nH",
        "outputId": "d1fccdd8-09a7-4423-a51f-00578d0e1cf5"
      },
      "execution_count": 15,
      "outputs": [
        {
          "output_type": "execute_result",
          "data": {
            "text/plain": [
              "VotingClassifier(estimators=[('logistic',\n",
              "                              Pipeline(steps=[('selector',\n",
              "                                               ColumnSelector(columns=['Age',\n",
              "                                                                       'Balance',\n",
              "                                                                       'CreditScore',\n",
              "                                                                       'EstimatedSalary',\n",
              "                                                                       'Gender',\n",
              "                                                                       'NumOfProducts',\n",
              "                                                                       'Tenure',\n",
              "                                                                       'HasCrCard',\n",
              "                                                                       'IsActiveMember',\n",
              "                                                                       'Geography_Germany'])),\n",
              "                                              ('scaler', StandardScaler()),\n",
              "                                              ('clf',\n",
              "                                               LogisticRegression(C=10))])),\n",
              "                             ('random_forest',\n",
              "                              Pipeline(steps=[('selector',\n",
              "                                               ColumnSelector...\n",
              "                                               RandomForestClassifier(max_depth=10,\n",
              "                                                                      min_samples_split=10,\n",
              "                                                                      n_estimators=300))])),\n",
              "                             ('gradient_boosting',\n",
              "                              Pipeline(steps=[('selector',\n",
              "                                               ColumnSelector(columns=['Age',\n",
              "                                                                       'Balance',\n",
              "                                                                       'CreditScore',\n",
              "                                                                       'EstimatedSalary',\n",
              "                                                                       'Gender',\n",
              "                                                                       'NumOfProducts',\n",
              "                                                                       'Tenure',\n",
              "                                                                       'HasCrCard',\n",
              "                                                                       'IsActiveMember',\n",
              "                                                                       'Geography_Germany'])),\n",
              "                                              ('scaler', StandardScaler()),\n",
              "                                              ('clf',\n",
              "                                               GradientBoostingClassifier(max_depth=5))]))],\n",
              "                 voting='soft')"
            ],
            "text/html": [
              "<style>#sk-container-id-1 {color: black;background-color: white;}#sk-container-id-1 pre{padding: 0;}#sk-container-id-1 div.sk-toggleable {background-color: white;}#sk-container-id-1 label.sk-toggleable__label {cursor: pointer;display: block;width: 100%;margin-bottom: 0;padding: 0.3em;box-sizing: border-box;text-align: center;}#sk-container-id-1 label.sk-toggleable__label-arrow:before {content: \"▸\";float: left;margin-right: 0.25em;color: #696969;}#sk-container-id-1 label.sk-toggleable__label-arrow:hover:before {color: black;}#sk-container-id-1 div.sk-estimator:hover label.sk-toggleable__label-arrow:before {color: black;}#sk-container-id-1 div.sk-toggleable__content {max-height: 0;max-width: 0;overflow: hidden;text-align: left;background-color: #f0f8ff;}#sk-container-id-1 div.sk-toggleable__content pre {margin: 0.2em;color: black;border-radius: 0.25em;background-color: #f0f8ff;}#sk-container-id-1 input.sk-toggleable__control:checked~div.sk-toggleable__content {max-height: 200px;max-width: 100%;overflow: auto;}#sk-container-id-1 input.sk-toggleable__control:checked~label.sk-toggleable__label-arrow:before {content: \"▾\";}#sk-container-id-1 div.sk-estimator input.sk-toggleable__control:checked~label.sk-toggleable__label {background-color: #d4ebff;}#sk-container-id-1 div.sk-label input.sk-toggleable__control:checked~label.sk-toggleable__label {background-color: #d4ebff;}#sk-container-id-1 input.sk-hidden--visually {border: 0;clip: rect(1px 1px 1px 1px);clip: rect(1px, 1px, 1px, 1px);height: 1px;margin: -1px;overflow: hidden;padding: 0;position: absolute;width: 1px;}#sk-container-id-1 div.sk-estimator {font-family: monospace;background-color: #f0f8ff;border: 1px dotted black;border-radius: 0.25em;box-sizing: border-box;margin-bottom: 0.5em;}#sk-container-id-1 div.sk-estimator:hover {background-color: #d4ebff;}#sk-container-id-1 div.sk-parallel-item::after {content: \"\";width: 100%;border-bottom: 1px solid gray;flex-grow: 1;}#sk-container-id-1 div.sk-label:hover label.sk-toggleable__label {background-color: #d4ebff;}#sk-container-id-1 div.sk-serial::before {content: \"\";position: absolute;border-left: 1px solid gray;box-sizing: border-box;top: 0;bottom: 0;left: 50%;z-index: 0;}#sk-container-id-1 div.sk-serial {display: flex;flex-direction: column;align-items: center;background-color: white;padding-right: 0.2em;padding-left: 0.2em;position: relative;}#sk-container-id-1 div.sk-item {position: relative;z-index: 1;}#sk-container-id-1 div.sk-parallel {display: flex;align-items: stretch;justify-content: center;background-color: white;position: relative;}#sk-container-id-1 div.sk-item::before, #sk-container-id-1 div.sk-parallel-item::before {content: \"\";position: absolute;border-left: 1px solid gray;box-sizing: border-box;top: 0;bottom: 0;left: 50%;z-index: -1;}#sk-container-id-1 div.sk-parallel-item {display: flex;flex-direction: column;z-index: 1;position: relative;background-color: white;}#sk-container-id-1 div.sk-parallel-item:first-child::after {align-self: flex-end;width: 50%;}#sk-container-id-1 div.sk-parallel-item:last-child::after {align-self: flex-start;width: 50%;}#sk-container-id-1 div.sk-parallel-item:only-child::after {width: 0;}#sk-container-id-1 div.sk-dashed-wrapped {border: 1px dashed gray;margin: 0 0.4em 0.5em 0.4em;box-sizing: border-box;padding-bottom: 0.4em;background-color: white;}#sk-container-id-1 div.sk-label label {font-family: monospace;font-weight: bold;display: inline-block;line-height: 1.2em;}#sk-container-id-1 div.sk-label-container {text-align: center;}#sk-container-id-1 div.sk-container {/* jupyter's `normalize.less` sets `[hidden] { display: none; }` but bootstrap.min.css set `[hidden] { display: none !important; }` so we also need the `!important` here to be able to override the default hidden behavior on the sphinx rendered scikit-learn.org. See: https://github.com/scikit-learn/scikit-learn/issues/21755 */display: inline-block !important;position: relative;}#sk-container-id-1 div.sk-text-repr-fallback {display: none;}</style><div id=\"sk-container-id-1\" class=\"sk-top-container\"><div class=\"sk-text-repr-fallback\"><pre>VotingClassifier(estimators=[(&#x27;logistic&#x27;,\n",
              "                              Pipeline(steps=[(&#x27;selector&#x27;,\n",
              "                                               ColumnSelector(columns=[&#x27;Age&#x27;,\n",
              "                                                                       &#x27;Balance&#x27;,\n",
              "                                                                       &#x27;CreditScore&#x27;,\n",
              "                                                                       &#x27;EstimatedSalary&#x27;,\n",
              "                                                                       &#x27;Gender&#x27;,\n",
              "                                                                       &#x27;NumOfProducts&#x27;,\n",
              "                                                                       &#x27;Tenure&#x27;,\n",
              "                                                                       &#x27;HasCrCard&#x27;,\n",
              "                                                                       &#x27;IsActiveMember&#x27;,\n",
              "                                                                       &#x27;Geography_Germany&#x27;])),\n",
              "                                              (&#x27;scaler&#x27;, StandardScaler()),\n",
              "                                              (&#x27;clf&#x27;,\n",
              "                                               LogisticRegression(C=10))])),\n",
              "                             (&#x27;random_forest&#x27;,\n",
              "                              Pipeline(steps=[(&#x27;selector&#x27;,\n",
              "                                               ColumnSelector...\n",
              "                                               RandomForestClassifier(max_depth=10,\n",
              "                                                                      min_samples_split=10,\n",
              "                                                                      n_estimators=300))])),\n",
              "                             (&#x27;gradient_boosting&#x27;,\n",
              "                              Pipeline(steps=[(&#x27;selector&#x27;,\n",
              "                                               ColumnSelector(columns=[&#x27;Age&#x27;,\n",
              "                                                                       &#x27;Balance&#x27;,\n",
              "                                                                       &#x27;CreditScore&#x27;,\n",
              "                                                                       &#x27;EstimatedSalary&#x27;,\n",
              "                                                                       &#x27;Gender&#x27;,\n",
              "                                                                       &#x27;NumOfProducts&#x27;,\n",
              "                                                                       &#x27;Tenure&#x27;,\n",
              "                                                                       &#x27;HasCrCard&#x27;,\n",
              "                                                                       &#x27;IsActiveMember&#x27;,\n",
              "                                                                       &#x27;Geography_Germany&#x27;])),\n",
              "                                              (&#x27;scaler&#x27;, StandardScaler()),\n",
              "                                              (&#x27;clf&#x27;,\n",
              "                                               GradientBoostingClassifier(max_depth=5))]))],\n",
              "                 voting=&#x27;soft&#x27;)</pre><b>In a Jupyter environment, please rerun this cell to show the HTML representation or trust the notebook. <br />On GitHub, the HTML representation is unable to render, please try loading this page with nbviewer.org.</b></div><div class=\"sk-container\" hidden><div class=\"sk-item sk-dashed-wrapped\"><div class=\"sk-label-container\"><div class=\"sk-label sk-toggleable\"><input class=\"sk-toggleable__control sk-hidden--visually\" id=\"sk-estimator-id-1\" type=\"checkbox\" ><label for=\"sk-estimator-id-1\" class=\"sk-toggleable__label sk-toggleable__label-arrow\">VotingClassifier</label><div class=\"sk-toggleable__content\"><pre>VotingClassifier(estimators=[(&#x27;logistic&#x27;,\n",
              "                              Pipeline(steps=[(&#x27;selector&#x27;,\n",
              "                                               ColumnSelector(columns=[&#x27;Age&#x27;,\n",
              "                                                                       &#x27;Balance&#x27;,\n",
              "                                                                       &#x27;CreditScore&#x27;,\n",
              "                                                                       &#x27;EstimatedSalary&#x27;,\n",
              "                                                                       &#x27;Gender&#x27;,\n",
              "                                                                       &#x27;NumOfProducts&#x27;,\n",
              "                                                                       &#x27;Tenure&#x27;,\n",
              "                                                                       &#x27;HasCrCard&#x27;,\n",
              "                                                                       &#x27;IsActiveMember&#x27;,\n",
              "                                                                       &#x27;Geography_Germany&#x27;])),\n",
              "                                              (&#x27;scaler&#x27;, StandardScaler()),\n",
              "                                              (&#x27;clf&#x27;,\n",
              "                                               LogisticRegression(C=10))])),\n",
              "                             (&#x27;random_forest&#x27;,\n",
              "                              Pipeline(steps=[(&#x27;selector&#x27;,\n",
              "                                               ColumnSelector...\n",
              "                                               RandomForestClassifier(max_depth=10,\n",
              "                                                                      min_samples_split=10,\n",
              "                                                                      n_estimators=300))])),\n",
              "                             (&#x27;gradient_boosting&#x27;,\n",
              "                              Pipeline(steps=[(&#x27;selector&#x27;,\n",
              "                                               ColumnSelector(columns=[&#x27;Age&#x27;,\n",
              "                                                                       &#x27;Balance&#x27;,\n",
              "                                                                       &#x27;CreditScore&#x27;,\n",
              "                                                                       &#x27;EstimatedSalary&#x27;,\n",
              "                                                                       &#x27;Gender&#x27;,\n",
              "                                                                       &#x27;NumOfProducts&#x27;,\n",
              "                                                                       &#x27;Tenure&#x27;,\n",
              "                                                                       &#x27;HasCrCard&#x27;,\n",
              "                                                                       &#x27;IsActiveMember&#x27;,\n",
              "                                                                       &#x27;Geography_Germany&#x27;])),\n",
              "                                              (&#x27;scaler&#x27;, StandardScaler()),\n",
              "                                              (&#x27;clf&#x27;,\n",
              "                                               GradientBoostingClassifier(max_depth=5))]))],\n",
              "                 voting=&#x27;soft&#x27;)</pre></div></div></div><div class=\"sk-parallel\"><div class=\"sk-parallel-item\"><div class=\"sk-item\"><div class=\"sk-label-container\"><div class=\"sk-label sk-toggleable\"><label>logistic</label></div></div><div class=\"sk-serial\"><div class=\"sk-item\"><div class=\"sk-serial\"><div class=\"sk-item\"><div class=\"sk-estimator sk-toggleable\"><input class=\"sk-toggleable__control sk-hidden--visually\" id=\"sk-estimator-id-2\" type=\"checkbox\" ><label for=\"sk-estimator-id-2\" class=\"sk-toggleable__label sk-toggleable__label-arrow\">ColumnSelector</label><div class=\"sk-toggleable__content\"><pre>ColumnSelector(columns=[&#x27;Age&#x27;, &#x27;Balance&#x27;, &#x27;CreditScore&#x27;, &#x27;EstimatedSalary&#x27;,\n",
              "                        &#x27;Gender&#x27;, &#x27;NumOfProducts&#x27;, &#x27;Tenure&#x27;, &#x27;HasCrCard&#x27;,\n",
              "                        &#x27;IsActiveMember&#x27;, &#x27;Geography_Germany&#x27;])</pre></div></div></div><div class=\"sk-item\"><div class=\"sk-estimator sk-toggleable\"><input class=\"sk-toggleable__control sk-hidden--visually\" id=\"sk-estimator-id-3\" type=\"checkbox\" ><label for=\"sk-estimator-id-3\" class=\"sk-toggleable__label sk-toggleable__label-arrow\">StandardScaler</label><div class=\"sk-toggleable__content\"><pre>StandardScaler()</pre></div></div></div><div class=\"sk-item\"><div class=\"sk-estimator sk-toggleable\"><input class=\"sk-toggleable__control sk-hidden--visually\" id=\"sk-estimator-id-4\" type=\"checkbox\" ><label for=\"sk-estimator-id-4\" class=\"sk-toggleable__label sk-toggleable__label-arrow\">LogisticRegression</label><div class=\"sk-toggleable__content\"><pre>LogisticRegression(C=10)</pre></div></div></div></div></div></div></div></div><div class=\"sk-parallel-item\"><div class=\"sk-item\"><div class=\"sk-label-container\"><div class=\"sk-label sk-toggleable\"><label>random_forest</label></div></div><div class=\"sk-serial\"><div class=\"sk-item\"><div class=\"sk-serial\"><div class=\"sk-item\"><div class=\"sk-estimator sk-toggleable\"><input class=\"sk-toggleable__control sk-hidden--visually\" id=\"sk-estimator-id-5\" type=\"checkbox\" ><label for=\"sk-estimator-id-5\" class=\"sk-toggleable__label sk-toggleable__label-arrow\">ColumnSelector</label><div class=\"sk-toggleable__content\"><pre>ColumnSelector(columns=[&#x27;Age&#x27;, &#x27;Balance&#x27;, &#x27;CreditScore&#x27;, &#x27;EstimatedSalary&#x27;,\n",
              "                        &#x27;Gender&#x27;, &#x27;NumOfProducts&#x27;, &#x27;Tenure&#x27;, &#x27;HasCrCard&#x27;,\n",
              "                        &#x27;IsActiveMember&#x27;, &#x27;Geography_Germany&#x27;])</pre></div></div></div><div class=\"sk-item\"><div class=\"sk-estimator sk-toggleable\"><input class=\"sk-toggleable__control sk-hidden--visually\" id=\"sk-estimator-id-6\" type=\"checkbox\" ><label for=\"sk-estimator-id-6\" class=\"sk-toggleable__label sk-toggleable__label-arrow\">StandardScaler</label><div class=\"sk-toggleable__content\"><pre>StandardScaler()</pre></div></div></div><div class=\"sk-item\"><div class=\"sk-estimator sk-toggleable\"><input class=\"sk-toggleable__control sk-hidden--visually\" id=\"sk-estimator-id-7\" type=\"checkbox\" ><label for=\"sk-estimator-id-7\" class=\"sk-toggleable__label sk-toggleable__label-arrow\">RandomForestClassifier</label><div class=\"sk-toggleable__content\"><pre>RandomForestClassifier(max_depth=10, min_samples_split=10, n_estimators=300)</pre></div></div></div></div></div></div></div></div><div class=\"sk-parallel-item\"><div class=\"sk-item\"><div class=\"sk-label-container\"><div class=\"sk-label sk-toggleable\"><label>gradient_boosting</label></div></div><div class=\"sk-serial\"><div class=\"sk-item\"><div class=\"sk-serial\"><div class=\"sk-item\"><div class=\"sk-estimator sk-toggleable\"><input class=\"sk-toggleable__control sk-hidden--visually\" id=\"sk-estimator-id-8\" type=\"checkbox\" ><label for=\"sk-estimator-id-8\" class=\"sk-toggleable__label sk-toggleable__label-arrow\">ColumnSelector</label><div class=\"sk-toggleable__content\"><pre>ColumnSelector(columns=[&#x27;Age&#x27;, &#x27;Balance&#x27;, &#x27;CreditScore&#x27;, &#x27;EstimatedSalary&#x27;,\n",
              "                        &#x27;Gender&#x27;, &#x27;NumOfProducts&#x27;, &#x27;Tenure&#x27;, &#x27;HasCrCard&#x27;,\n",
              "                        &#x27;IsActiveMember&#x27;, &#x27;Geography_Germany&#x27;])</pre></div></div></div><div class=\"sk-item\"><div class=\"sk-estimator sk-toggleable\"><input class=\"sk-toggleable__control sk-hidden--visually\" id=\"sk-estimator-id-9\" type=\"checkbox\" ><label for=\"sk-estimator-id-9\" class=\"sk-toggleable__label sk-toggleable__label-arrow\">StandardScaler</label><div class=\"sk-toggleable__content\"><pre>StandardScaler()</pre></div></div></div><div class=\"sk-item\"><div class=\"sk-estimator sk-toggleable\"><input class=\"sk-toggleable__control sk-hidden--visually\" id=\"sk-estimator-id-10\" type=\"checkbox\" ><label for=\"sk-estimator-id-10\" class=\"sk-toggleable__label sk-toggleable__label-arrow\">GradientBoostingClassifier</label><div class=\"sk-toggleable__content\"><pre>GradientBoostingClassifier(max_depth=5)</pre></div></div></div></div></div></div></div></div></div></div></div></div>"
            ]
          },
          "metadata": {},
          "execution_count": 15
        }
      ]
    },
    {
      "cell_type": "code",
      "source": [
        "# Predictions\n",
        "y_pred_ensemble = ensemble_model.predict(X_test)\n"
      ],
      "metadata": {
        "id": "0DD3gErXiBGB"
      },
      "execution_count": 16,
      "outputs": []
    },
    {
      "cell_type": "code",
      "source": [
        "\n",
        "# Model evaluation\n",
        "print(\"Ensemble Model:\")\n",
        "print(\"Accuracy:\", accuracy_score(y_test, y_pred_ensemble))\n",
        "print(\"Confusion Matrix:\")\n",
        "print(confusion_matrix(y_test, y_pred_ensemble))\n",
        "print(\"Classification Report:\")\n",
        "print(classification_report(y_test, y_pred_ensemble))\n",
        "print(\"ROC AUC Score:\", roc_auc_score(y_test, y_pred_ensemble))"
      ],
      "metadata": {
        "colab": {
          "base_uri": "https://localhost:8080/"
        },
        "id": "-HWkFxFwiEFD",
        "outputId": "387a5c72-07a4-46be-bc31-c2a2e5697f5a"
      },
      "execution_count": 17,
      "outputs": [
        {
          "output_type": "stream",
          "name": "stdout",
          "text": [
            "Ensemble Model:\n",
            "Accuracy: 0.863\n",
            "Confusion Matrix:\n",
            "[[1556   51]\n",
            " [ 223  170]]\n",
            "Classification Report:\n",
            "              precision    recall  f1-score   support\n",
            "\n",
            "           0       0.87      0.97      0.92      1607\n",
            "           1       0.77      0.43      0.55       393\n",
            "\n",
            "    accuracy                           0.86      2000\n",
            "   macro avg       0.82      0.70      0.74      2000\n",
            "weighted avg       0.85      0.86      0.85      2000\n",
            "\n",
            "ROC AUC Score: 0.7004169101149392\n"
          ]
        }
      ]
    }
  ]
}